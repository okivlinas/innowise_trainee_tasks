{
 "cells": [
  {
   "cell_type": "markdown",
   "id": "d3df79dd",
   "metadata": {},
   "source": [
    "## Упражнения по библиотеке Numpy"
   ]
  },
  {
   "cell_type": "code",
   "execution_count": 1,
   "id": "76b9c43b",
   "metadata": {},
   "outputs": [],
   "source": [
    "import numpy as np"
   ]
  },
  {
   "cell_type": "markdown",
   "id": "03727b7c",
   "metadata": {},
   "source": [
    "**1.** Дан случайный массив, поменять знак у элементов, значения которых между 3 и 8"
   ]
  },
  {
   "cell_type": "code",
   "execution_count": 149,
   "id": "b89a7523",
   "metadata": {},
   "outputs": [],
   "source": [
    "print(\"ex1\")\n",
    "arr = np.random.randint(0, 10, 10)\n",
    "print(arr)\n",
    "ind = np.where((arr >= 3) & (arr <= 8))\n",
    "arr[ind] *= -1\n",
    "print(arr)"
   ]
  },
  {
   "cell_type": "markdown",
   "id": "5fa4abda",
   "metadata": {},
   "source": [
    "**2.** Заменить максимальный элемент случайного массива на 0"
   ]
  },
  {
   "cell_type": "code",
   "execution_count": 150,
   "id": "f2788a6e",
   "metadata": {},
   "outputs": [],
   "source": [
    "print(\"ex2\")\n",
    "ind = np.where(arr == arr.max())\n",
    "arr[ind] = 0\n",
    "print(arr)"
   ]
  },
  {
   "cell_type": "markdown",
   "id": "3cac656b",
   "metadata": {},
   "source": [
    "**3.** Построить прямое произведение массивов (все комбинации с каждым элементом). На вход подается двумерный массив"
   ]
  },
  {
   "cell_type": "code",
   "execution_count": 151,
   "id": "3396b764",
   "metadata": {},
   "outputs": [],
   "source": [
    "print(\"ex3\")\n",
    "arr1 = np.array([(1, 2, 3), (4, 5, 6)])\n",
    "print(arr1)\n",
    "mesh_arr = np.meshgrid(*arr1)\n",
    "print(mesh_arr)\n",
    "res = np.prod(mesh_arr, axis=0)\n",
    "print(res)"
   ]
  },
  {
   "cell_type": "markdown",
   "id": "674c9354",
   "metadata": {},
   "source": [
    "**4.** Даны 2 массива A (8x3) и B (2x2). Найти строки в A, которые содержат элементы из каждой строки в B, независимо от порядка элементов в B"
   ]
  },
  {
   "cell_type": "code",
   "execution_count": 152,
   "id": "cb664782",
   "metadata": {},
   "outputs": [],
   "source": [
    "print(\"ex4\")\n",
    "arr11 = np.random.randint(0, 10, size=(8, 3))\n",
    "arr22 = np.random.randint(0, 10, size=(2, 2))\n",
    "print(arr11)\n",
    "print(arr22)\n",
    "mask = np.isin(arr11, arr22).all(axis=1)\n",
    "print(arr11[mask])"
   ]
  },
  {
   "cell_type": "markdown",
   "id": "fa46533b",
   "metadata": {},
   "source": [
    "**5.** Дана 10x3 матрица, найти строки из неравных значений (например строка [2,2,3] остается, строка [3,3,3] удаляется)"
   ]
  },
  {
   "cell_type": "code",
   "execution_count": 153,
   "id": "fa545b23",
   "metadata": {},
   "outputs": [],
   "source": [
    "print(\"ex5\")\n",
    "matrix1 = np.array([[2, 2, 3],\n",
    "                    [3, 3, 3],\n",
    "                    [4, 5, 6],\n",
    "                    [7, 7, 7],\n",
    "                    [8, 9, 9],\n",
    "                    [1, 1, 1],\n",
    "                    [2, 3, 4],\n",
    "                    [5, 6, 6],\n",
    "                    [7, 8, 9],\n",
    "                    [0, 0, 0]])\n",
    "\n",
    "res = np.where((matrix1[:, 0] == matrix1[:, 1]) & (matrix1[:, 1] == matrix1[:, 2]))\n",
    "matrix1 = np.delete(matrix1, res, axis=0)\n",
    "print(matrix1)"
   ]
  },
  {
   "cell_type": "markdown",
   "id": "28f0d116",
   "metadata": {},
   "source": [
    "**6.** Дан двумерный массив. Удалить те строки, которые повторяются"
   ]
  },
  {
   "cell_type": "code",
   "execution_count": 154,
   "id": "83d2c0b7",
   "metadata": {},
   "outputs": [],
   "source": [
    "print(\"ex6\")\n",
    "matrix2 = np.array([[2, 2, 3],\n",
    "                    [3, 3, 3],\n",
    "                    [4, 5, 6],\n",
    "                    [4, 5, 6],\n",
    "                    [7, 7, 7],\n",
    "                    [8, 9, 9],\n",
    "                    [1, 1, 1],\n",
    "                    [2, 3, 4],\n",
    "                    [2, 3, 4],\n",
    "                    [5, 6, 6],\n",
    "                    [7, 8, 9],\n",
    "                    [7, 8, 9],\n",
    "                    [0, 0, 0]])\n",
    "\n",
    "unique_rows = np.unique(matrix2, axis=0)\n",
    "print(unique_rows)"
   ]
  },
  {
   "cell_type": "markdown",
   "id": "6daa9e37",
   "metadata": {},
   "source": [
    "______\n",
    "______"
   ]
  },
  {
   "cell_type": "markdown",
   "id": "cfbfcaff",
   "metadata": {},
   "source": [
    "Для каждой из следующих задач (1-5) нужно привести 2 реализации – одна без использования numpy (cчитайте, что там, где на входе или выходе должны быть numpy array, будут просто списки), а вторая полностью векторизованная с использованием numpy (без использования питоновских циклов/map/list comprehension).\n",
    "\n",
    "\n",
    "__Замечание 1.__ Можно считать, что все указанные объекты непустые (к примеру, в __задаче 1__ на диагонали матрицы есть ненулевые элементы).\n",
    "\n",
    "__Замечание 2.__ Для большинства задач решение занимает не больше 1-2 строк."
   ]
  },
  {
   "cell_type": "markdown",
   "id": "673cac7f",
   "metadata": {},
   "source": [
    "___"
   ]
  },
  {
   "cell_type": "markdown",
   "id": "ca6f585e",
   "metadata": {},
   "source": [
    "* __Задача 1__: Подсчитать произведение ненулевых элементов на диагонали прямоугольной матрицы.  \n",
    " Например, для X = np.array([[1, 0, 1], [2, 0, 2], [3, 0, 3], [4, 4, 4]]) ответ 3."
   ]
  },
  {
   "cell_type": "code",
   "execution_count": 156,
   "id": "065862fc",
   "metadata": {},
   "outputs": [],
   "source": [
    "print(\"task1_1\")\n",
    "A = [[1, 0, 1], [2, 0, 2], [3, 0, 3], [4, 4, 4]]\n",
    "num_A = len(A[0])\n",
    "k = 0\n",
    "ans = 1\n",
    "for i in range(num_A):\n",
    "    if A[i][k] != 0:\n",
    "        ans *= A[i][k]\n",
    "    k += 1\n",
    "print(ans)\n",
    "\n",
    "print(\"task1_2\")\n",
    "X = np.array([[1, 0, 1], [2, 0, 2], [3, 0, 3], [4, 4, 4]])\n",
    "dia_elem = np.diag(X)\n",
    "non_zero_dia_elem = dia_elem[dia_elem != 0]\n",
    "ans1 = np.prod(non_zero_dia_elem)\n",
    "print(ans1)"
   ]
  },
  {
   "cell_type": "markdown",
   "id": "9fc51d41",
   "metadata": {},
   "source": [
    "* __Задача 2__: Даны два вектора x и y. Проверить, задают ли они одно и то же мультимножество.  \n",
    "  Например, для x = np.array([1, 2, 2, 4]), y = np.array([4, 2, 1, 2]) ответ True."
   ]
  },
  {
   "cell_type": "code",
   "execution_count": 157,
   "id": "a809e02f",
   "metadata": {},
   "outputs": [],
   "source": [
    "print(\"task2_1\")\n",
    "def is_same_vect(vector1, vector2):\n",
    "    if len(vector1)!=len(vector2):\n",
    "        return False\n",
    "    vector11 = sorted(vector1)\n",
    "    vector22 = sorted(vector2)\n",
    "\n",
    "    return vector11 == vector22\n",
    "\n",
    "vector1 = [1, 2, 2, 4]\n",
    "vector2 = [4, 2, 1, 2]\n",
    "\n",
    "print(is_same_vect(vector1, vector2))\n",
    "\n",
    "print(\"task2_2\")\n",
    "vector3 = np.array([1, 2, 2, 4])\n",
    "vector4 = np.array([4, 2, 1, 2])\n",
    "sorted_v3 = np.sort(vector3)\n",
    "sorted_v4 = np.sort(vector4)\n",
    "print(np.array_equal(sorted_v3, sorted_v4))"
   ]
  },
  {
   "cell_type": "markdown",
   "id": "b9c185c7",
   "metadata": {},
   "source": [
    "* __Задача 3__: Найти максимальный элемент в векторе x среди элементов, перед которыми стоит ноль. \n",
    " Например, для x = np.array([6, 2, 0, 3, 0, 0, 5, 7, 0]) ответ 5."
   ]
  },
  {
   "cell_type": "code",
   "execution_count": 158,
   "id": "b57df008",
   "metadata": {},
   "outputs": [],
   "source": [
    "print(\"task3_1\")\n",
    "vector31 = [6, 2, 0, 3, 0, 0, 5, 7, 0]\n",
    "len_vect31 = len(vector31) - 1\n",
    "max_elem = -99999\n",
    "for i in range(len_vect31):\n",
    "    if vector31[i] == 0 and vector31[i+1] != 0:\n",
    "        if vector31[i+1] > max_elem:\n",
    "            max_elem = vector31[i+1]\n",
    "print(max_elem)\n",
    "\n",
    "print(\"task3_2\")\n",
    "vector32 = np.array([6, 2, 0, 3, 0, 0, 5, 7, 0])\n",
    "indices = np.where(vector32[:-1] == 0)\n",
    "indices = np.asarray(indices)\n",
    "max_elements = vector32[indices+1]\n",
    "max_value = np.max(max_elements)\n",
    "print(max_value)"
   ]
  },
  {
   "cell_type": "markdown",
   "id": "480be4ce",
   "metadata": {},
   "source": [
    "* __Задача 4__: Реализовать кодирование длин серий (Run-length encoding). Для некоторого вектора x необходимо вернуть кортеж из двух векторов одинаковой длины. Первый содержит числа, а второй - сколько раз их нужно повторить.  \n",
    " Например, для x = np.array([2, 2, 2, 3, 3, 3, 5]) ответ (np.array([2, 3, 5]), np.array([3, 3, 1]))."
   ]
  },
  {
   "cell_type": "code",
   "execution_count": 159,
   "id": "3c592124",
   "metadata": {},
   "outputs": [],
   "source": [
    "print(\"task4_1\")\n",
    "arr41 = [2, 2, 2, 3, 3, 3, 5]\n",
    "kol = 1\n",
    "dlina = len(arr41)\n",
    "arr441 = []\n",
    "arr442 = []\n",
    "for i in range(dlina-1):\n",
    "    if arr41[i] != arr41[i+1]:\n",
    "        arr441.append(arr41[i])\n",
    "        arr442.append(kol)\n",
    "        kol = 1\n",
    "    if arr41[i] == arr41[i+1]:\n",
    "        kol += 1\n",
    "\n",
    "arr441.append(arr41[dlina-1])\n",
    "arr442.append(kol)\n",
    "\n",
    "print(arr441)\n",
    "print(arr442)\n",
    "\n",
    "print(\"task4_2\")\n",
    "def ret_uni_arr(array42):\n",
    "    unique_values, counts = np.unique(array42, return_counts=True)\n",
    "    return unique_values, counts\n",
    "\n",
    "array42 = np.array([2, 2, 2, 3, 3, 3, 5])\n",
    "encoded_val, counts = ret_uni_arr(array42)\n",
    "\n",
    "print(encoded_val)\n",
    "print(counts)"
   ]
  },
  {
   "cell_type": "markdown",
   "id": "077532ec",
   "metadata": {},
   "source": [
    "* __Задача 5__: Даны две выборки объектов - X и Y. Вычислить матрицу евклидовых расстояний между объектами. Сравните с функцией scipy.spatial.distance.cdist по скорости работы."
   ]
  },
  {
   "cell_type": "code",
   "execution_count": 160,
   "id": "1e807797",
   "metadata": {},
   "outputs": [],
   "source": [
    "print(\"task5_1\")\n",
    "import math\n",
    "\n",
    "X = [[1, 2], [3, 4], [5, 6]]\n",
    "Y = [[7, 8], [9, 10]]\n",
    "\n",
    "def euclidean_distance(point1, point2):\n",
    "    return math.sqrt(sum([(a - b) ** 2 for a, b in zip(point1, point2)]))\n",
    "\n",
    "distances = [[euclidean_distance(x, y) for y in Y] for x in X]\n",
    "\n",
    "for row in distances:\n",
    "    print(row)\n",
    "\n",
    "print(\"task5_2\")\n",
    "X = np.array([[1, 2], [3, 4], [5, 6]])\n",
    "Y = np.array([[7, 8], [9, 10]])\n",
    "\n",
    "distances = np.sqrt(np.sum((X[:, np.newaxis] - Y) ** 2, axis=2))\n",
    "\n",
    "print(\"Матрица евклидовых расстояний (с использованием NumPy):\")\n",
    "print(distances)"
   ]
  },
  {
   "cell_type": "markdown",
   "id": "973e8064",
   "metadata": {},
   "source": [
    "_______\n",
    "________"
   ]
  },
  {
   "cell_type": "markdown",
   "id": "1104acb7",
   "metadata": {},
   "source": [
    "* #### __Задача 6__: CrunchieMunchies __*__\n",
    "\n",
    "Вы работаете в отделе маркетинга пищевой компании MyCrunch, которая разрабатывает новый вид вкусных, полезных злаков под названием **CrunchieMunchies**.\n",
    "\n",
    "Вы хотите продемонстрировать потребителям, насколько полезны ваши хлопья по сравнению с другими ведущими брендами, поэтому вы собрали данные о питании нескольких разных конкурентов.\n",
    "\n",
    "Ваша задача - использовать вычисления Numpy для анализа этих данных и доказать, что ваши **СrunchieMunchies** - самый здоровый выбор для потребителей.\n"
   ]
  },
  {
   "cell_type": "code",
   "execution_count": 77,
   "id": "10a77f8d",
   "metadata": {},
   "outputs": [],
   "source": [
    "import numpy as np"
   ]
  },
  {
   "cell_type": "markdown",
   "id": "ab87cb03",
   "metadata": {},
   "source": [
    "1. Просмотрите файл cereal.csv. Этот файл содержит количества калорий для различных марок хлопьев. Загрузите данные из файла и сохраните их как calorie_stats."
   ]
  },
  {
   "cell_type": "code",
   "execution_count": 170,
   "id": "9681ebf2",
   "metadata": {},
   "outputs": [
    {
     "data": {
      "text/plain": [
       "array([ 70., 120.,  70.,  50., 110., 110., 110., 130.,  90.,  90., 120.,\n",
       "       110., 120., 110., 110., 110., 100., 110., 110., 110., 100., 110.,\n",
       "       100., 100., 110., 110., 100., 120., 120., 110., 100., 110., 100.,\n",
       "       110., 120., 120., 110., 110., 110., 140., 110., 100., 110., 100.,\n",
       "       150., 150., 160., 100., 120., 140.,  90., 130., 120., 100.,  50.,\n",
       "        50., 100., 100., 120., 100.,  90., 110., 110.,  80.,  90.,  90.,\n",
       "       110., 110.,  90., 110., 140., 100., 110., 110., 100., 100., 110.])"
      ]
     },
     "execution_count": 170,
     "metadata": {},
     "output_type": "execute_result"
    }
   ],
   "source": [
    "calorie_stats = np.loadtxt(\"./data/cereal.csv\", delimiter=\",\")\n",
    "calorie_stats"
   ]
  },
  {
   "cell_type": "markdown",
   "id": "139cfbd8",
   "metadata": {},
   "source": [
    "2. В одной порции CrunchieMunchies содержится 60 калорий. Насколько выше среднее количество калорий у ваших конкурентов?\n",
    "\n",
    "Сохраните ответ в переменной average_calories и распечатайте переменную в терминале"
   ]
  },
  {
   "cell_type": "code",
   "execution_count": 161,
   "id": "7036d240",
   "metadata": {},
   "outputs": [],
   "source": [
    "average_calories = np.mean(array) - 60\n",
    "print(average_calories)"
   ]
  },
  {
   "cell_type": "markdown",
   "id": "b2ddb4cd",
   "metadata": {},
   "source": [
    "3. Корректно ли среднее количество калорий отражает распределение набора данных? Давайте отсортируем данные и посмотрим.\n",
    "\n",
    "Отсортируйте данные и сохраните результат в переменной calorie_stats_sorted. Распечатайте отсортированную информацию"
   ]
  },
  {
   "cell_type": "code",
   "execution_count": 162,
   "id": "46eeb4ed",
   "metadata": {},
   "outputs": [],
   "source": [
    "calorie_stats_sorted = np.sort(array)\n",
    "print(calorie_stats_sorted)"
   ]
  },
  {
   "cell_type": "markdown",
   "id": "4dc74116",
   "metadata": {},
   "source": [
    "4. Похоже, что большинство значений выше среднего. Давайте посмотрим, является ли медиана наиболее корректным показателем набора данных.\n",
    "\n",
    "Вычислите медиану набора данных и сохраните свой ответ в median_calories. Выведите медиану, чтобы вы могли видеть, как она сравнивается со средним значением."
   ]
  },
  {
   "cell_type": "code",
   "execution_count": 163,
   "id": "b56627c3",
   "metadata": {},
   "outputs": [],
   "source": [
    "median_calories = np.median(array)\n",
    "print(median_calories)"
   ]
  },
  {
   "cell_type": "markdown",
   "id": "a63ab72f",
   "metadata": {},
   "source": [
    "5. В то время как медиана показывает, что по крайней мере половина наших значений составляет более 100 калорий, было бы более впечатляюще показать, что значительная часть конкурентов имеет более высокое количество калорий, чем CrunchieMunchies.\n",
    "\n",
    "Рассчитайте различные процентили и распечатайте их, пока не найдете наименьший процентиль, превышающий 60 калорий. Сохраните это значение в переменной nth_percentile."
   ]
  },
  {
   "cell_type": "code",
   "execution_count": 164,
   "id": "fe80ce03",
   "metadata": {},
   "outputs": [],
   "source": [
    "percentiles = [0, 5, 10, 15, 20, 25, 30, 35, 40, 45, 50, 55, 60, 65, 70, 75, 80, 85, 90, 95, 100]\n",
    "percentile_values = np.percentile(array, percentiles)\n",
    "index = np.argmax(percentile_values > 60)\n",
    "nth_percentile = percentile_values[index]\n",
    "print(nth_percentile)"
   ]
  },
  {
   "cell_type": "markdown",
   "id": "a2a3c5aa",
   "metadata": {},
   "source": [
    "6. Хотя процентиль показывает нам, что у большинства конкурентов количество калорий намного выше, это неудобная концепция для использования в маркетинговых материалах.\n",
    "\n",
    "Вместо этого давайте подсчитаем процент хлопьев, в которых содержится более 60 калорий на порцию. Сохраните свой ответ в переменной more_calories и распечатайте его"
   ]
  },
  {
   "cell_type": "code",
   "execution_count": 165,
   "id": "ade0f6ea",
   "metadata": {},
   "outputs": [],
   "source": [
    "calories = np.sum(array > 60)\n",
    "more_calories = (calories/len(array))*100\n",
    "print(more_calories, end=\"\")\n",
    "print(\"%\")"
   ]
  },
  {
   "cell_type": "markdown",
   "id": "1735d65b",
   "metadata": {},
   "source": [
    "7. Это действительно высокий процент. Это будет очень полезно, когда мы будем продвигать CrunchieMunchies. Но один вопрос заключается в том, насколько велики различия в наборе данных? Можем ли мы сделать обобщение, что в большинстве злаков содержится около 100 калорий или разброс еще больше?\n",
    "\n",
    "Рассчитайте величину отклонения, найдя стандартное отклонение, Сохраните свой ответ в calorie_std и распечатайте на терминале. Как мы можем включить эту ценность в наш анализ?"
   ]
  },
  {
   "cell_type": "code",
   "execution_count": 166,
   "id": "85c8df1f",
   "metadata": {},
   "outputs": [],
   "source": [
    "calorie_std = np.std(array)\n",
    "print(calorie_std)"
   ]
  },
  {
   "cell_type": "markdown",
   "id": "037455c5",
   "metadata": {},
   "source": [
    "8. Напишите короткий абзац, в котором кратко изложите свои выводы и то, как, по вашему мнению, эти данные могут быть использованы в интересах Mycrunch при маркетинге CrunchieMunchies."
   ]
  },
  {
   "cell_type": "code",
   "execution_count": 167,
   "id": "c260fee9",
   "metadata": {},
   "outputs": [],
   "source": [
    "Исследование показало, что большинство хлопьев содержат намного больше калорий на порцию, нежели хлопья CrunchieMunchies. Кроме того, стандартное отклонение калорийности указывает на значительный разброс калорийности в наборе продуктов. Эти данные могут быть полезны для Mycrunch при разработке маркетинговых стратегий для CrunchieMunchies. Например, учитывая высокий процент хлопьев с более чем 60 калориями, можно подчеркнуть, что СrunchieMunchies - самый здоровый выбор для потребителейв."
   ]
  }
 ],
 "metadata": {
  "kernelspec": {
   "display_name": "Python 3 (ipykernel)",
   "language": "python",
   "name": "python3"
  },
  "language_info": {
   "codemirror_mode": {
    "name": "ipython",
    "version": 3
   },
   "file_extension": ".py",
   "mimetype": "text/x-python",
   "name": "python",
   "nbconvert_exporter": "python",
   "pygments_lexer": "ipython3",
   "version": "3.8.10"
  }
 },
 "nbformat": 4,
 "nbformat_minor": 5
}

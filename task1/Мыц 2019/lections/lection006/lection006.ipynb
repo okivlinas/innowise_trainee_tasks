{
 "cells": [
  {
   "cell_type": "markdown",
   "metadata": {},
   "source": [
    "# Лекция 6: классы, итераторы, декораторы"
   ]
  },
  {
   "cell_type": "markdown",
   "metadata": {},
   "source": [
    "## Общее понятие класса\n",
    "\n",
    "* Класс (class) - пользовательский тип описывающий объект.\n",
    "* На основе классов создаются объекты (экземпляры, class instance).\n",
    "* Обозначаются ключевым словом class.\n",
    "* В Python классы также являются объектами."
   ]
  },
  {
   "cell_type": "code",
   "execution_count": 1,
   "metadata": {},
   "outputs": [
    {
     "name": "stdout",
     "output_type": "stream",
     "text": [
      "some text\n",
      "True\n",
      "True\n"
     ]
    }
   ],
   "source": [
    "class Simple: # [3.x], before (object) was here\n",
    "    pass\n",
    "\n",
    "simple_obj = Simple()\n",
    "\n",
    "# field will be set only for that particular object\n",
    "simple_obj.field = \"some text\"\n",
    "\n",
    "print(simple_obj.field)\n",
    "print(isinstance(simple_obj, Simple))\n",
    "print(isinstance(simple_obj, object))"
   ]
  },
  {
   "cell_type": "markdown",
   "metadata": {},
   "source": [
    "* В круглых скобках указывается предок.\n",
    "* Начиная с некоторой версии классы во втором питоне записывались с явным указанием предка object для всех, это были так называемые new-style classes и такую запись следует использовать во втором питоне.\n",
    "* В третьем это делать не надо.\n",
    "* Для истории, если интересно как было раньше, можно посмотреть подробнее про old style и new style:\n",
    "  * https://docs.python.org/2/reference/datamodel.html#new-style-and-classic-classes\n",
    "  * https://wiki.python.org/moin/NewClassVsClassicClass\n",
    "  * https://stackoverflow.com/questions/54867/what-is-the-difference-between-old-style-and-new-style-classes-in-python"
   ]
  },
  {
   "cell_type": "markdown",
   "metadata": {},
   "source": [
    "### Про определение класса\n",
    "\n",
    "* Тело класа - последовательность выражений.\n",
    "* Класс задаётся путём описания выражений внутри его.\n",
    "* Класс создаётся после последовательного выполнения выражений: обычно это тела функций, иногда поля класса.\n",
    "* Тело класса задаёт локальное пространство имён для определённых в нём объектов.\n",
    "* После выполнения тела класса - он создаётся и связывается с переменной указанной в его имени."
   ]
  },
  {
   "cell_type": "code",
   "execution_count": 1,
   "metadata": {},
   "outputs": [],
   "source": [
    "class Student:\n",
    "    b = 3\n",
    "    a = 1 + b\n",
    "    def say_hello(self):\n",
    "        print(\"Hello\")"
   ]
  },
  {
   "cell_type": "markdown",
   "metadata": {},
   "source": [
    "### Классы как объекты\n",
    "\n",
    "* Поддерживают две основных операции:\n",
    "  * обращение к аттрибуту класа - через точку по имени.\n",
    "  * создание объекта класса - с помощью круглых скобок, как вызов функции.\n",
    "* Результатом создания объекта является экземпляр класса."
   ]
  },
  {
   "cell_type": "markdown",
   "metadata": {},
   "source": [
    "### Экземпляры классов"
   ]
  },
  {
   "cell_type": "markdown",
   "metadata": {},
   "source": [
    "* Поддерживают обращение к аттрибуту.\n",
    "* Аттрибуты могут быть данными и методами.\n",
    "* Методы != функции.\n",
    "* Все аттрибуты, которые являются функциями, при создании класса задают соответствующий метод."
   ]
  },
  {
   "cell_type": "code",
   "execution_count": 3,
   "metadata": {},
   "outputs": [
    {
     "name": "stdout",
     "output_type": "stream",
     "text": [
      "Imitating logger:  Starting operation\n",
      "Doing something\n",
      "Imitating logger:  Ending operation\n",
      "Imitating logger:  Calling explicitly from class\n"
     ]
    }
   ],
   "source": [
    "class Logger:\n",
    "    def log(self, message):\n",
    "        print(\"Imitating logger: \", message)\n",
    "\n",
    "logger = Logger()\n",
    "logger.log(\"Starting operation\")\n",
    "print(\"Doing something\")\n",
    "logger.log(\"Ending operation\")\n",
    "\n",
    "Logger.log(logger, \"Calling explicitly from class\")"
   ]
  },
  {
   "cell_type": "markdown",
   "metadata": {},
   "source": [
    "* Экземплярный метод записывается по аналогии с функцией\n",
    "* Но должен иметь явно указанный первый аргумент self\n",
    "* self - аналог this из других языков, представляет конкретный объект класса.\n",
    "* Вызывается через оператор точка для конкретного объекта.\n",
    "* Можно явно вызвать от класса и передать объект первым аргументом."
   ]
  },
  {
   "cell_type": "code",
   "execution_count": 4,
   "metadata": {},
   "outputs": [
    {
     "name": "stdout",
     "output_type": "stream",
     "text": [
      "100500\n",
      "100500\n"
     ]
    }
   ],
   "source": [
    "class DataBot:\n",
    "    number = 100500\n",
    "\n",
    "first_bot = DataBot()\n",
    "second_bot = DataBot()\n",
    "\n",
    "print(DataBot.number)\n",
    "print(first_bot.number)"
   ]
  },
  {
   "cell_type": "code",
   "execution_count": 5,
   "metadata": {},
   "outputs": [
    {
     "name": "stdout",
     "output_type": "stream",
     "text": [
      "-100500\n",
      "-100500\n"
     ]
    }
   ],
   "source": [
    "DataBot.number = -100500\n",
    "print(DataBot.number)\n",
    "print(first_bot.number)"
   ]
  },
  {
   "cell_type": "code",
   "execution_count": 6,
   "metadata": {},
   "outputs": [
    {
     "name": "stdout",
     "output_type": "stream",
     "text": [
      "0\n",
      "-100500\n"
     ]
    }
   ],
   "source": [
    "first_bot.number = 0\n",
    "print(first_bot.number)\n",
    "print(second_bot.number)"
   ]
  },
  {
   "cell_type": "code",
   "execution_count": 7,
   "metadata": {},
   "outputs": [
    {
     "name": "stdout",
     "output_type": "stream",
     "text": [
      "42\n",
      "0\n",
      "42\n"
     ]
    }
   ],
   "source": [
    "DataBot.number = 42\n",
    "print(DataBot.number)\n",
    "print(first_bot.number)\n",
    "print(second_bot.number)"
   ]
  },
  {
   "cell_type": "code",
   "execution_count": 8,
   "metadata": {},
   "outputs": [
    {
     "name": "stdout",
     "output_type": "stream",
     "text": [
      "42\n",
      "42\n",
      "42\n"
     ]
    }
   ],
   "source": [
    "del first_bot.number\n",
    "print(DataBot.number)\n",
    "print(first_bot.number)\n",
    "print(second_bot.number)"
   ]
  },
  {
   "cell_type": "code",
   "execution_count": 9,
   "metadata": {},
   "outputs": [
    {
     "name": "stdout",
     "output_type": "stream",
     "text": [
      "100500\n",
      "100500\n",
      "100500\n"
     ]
    }
   ],
   "source": [
    "DataBot.number = 100500\n",
    "print(DataBot.number)\n",
    "print(first_bot.number)\n",
    "print(second_bot.number)"
   ]
  },
  {
   "cell_type": "markdown",
   "metadata": {},
   "source": [
    "* Классам можно указывать аттрибуты, которые будут доступны из всех объектов этого класса.\n",
    "* При изменении аттрибутов класса изменения видны и из объектов этого класса.\n",
    "* Если присвоить значение по имени аттрибута класса объекту класса, то аттрибут класса в этом объекте закроется полем объекта.\n",
    "* Важно различать понятия аттрибут класса и поле объекта."
   ]
  },
  {
   "cell_type": "markdown",
   "metadata": {},
   "source": [
    "### Инициализация данных в классе"
   ]
  },
  {
   "cell_type": "code",
   "execution_count": 10,
   "metadata": {},
   "outputs": [],
   "source": [
    "class Aggregator:\n",
    "    def __init__(self):\n",
    "        self.total_sum = 0\n",
    "        self.elements_count = 0\n",
    "\n",
    "    def add_value(self, value):\n",
    "        self.total_sum += value\n",
    "        self.elements_count += 1\n",
    "\n",
    "    def get_average(self):\n",
    "        return self.total_sum / self.elements_count\n",
    "\n",
    "    def get_sum(self):\n",
    "        return self.total_sum"
   ]
  },
  {
   "cell_type": "markdown",
   "metadata": {},
   "source": [
    "* \\_\\_init\\_\\_ - метод-инициализатор, вызывается после создания объекта для его инициализации.\n",
    "* В отличие от других языков (конструкторы в C++), инициализатор вызывается уже для созданного объекта.\n",
    "* Принятый способ задания полей объекта - в инициализаторе.\n",
    "* Если поле изначально может не существовать, а будет создано в результате некоторой логики, то принято явно создать поле с начальным значением ({} или просто None). \n",
    "* \\_\\_init\\_\\_ - представитель так называемых \"магических методов\"."
   ]
  },
  {
   "cell_type": "markdown",
   "metadata": {},
   "source": [
    "## Магические методы\n",
    "\n",
    "* Специальные методы, которые начинаются и заканчиваются с двух нижних подчёркиваний.\n",
    "* Обычно используются неявно и с их возможностью можно определять некоторое поведение для функций или библиотек."
   ]
  },
  {
   "cell_type": "markdown",
   "metadata": {},
   "source": [
    "Примеры:  \n",
    "* для арифметических операций (add, radd, iadd, mul, div ...)\n",
    "* для сравнения (cmp, eq, neq ...)  \n",
    "* для манипуляции с обьектами (new, init, del ...)  \n",
    "* для преобразования типов (int, str, ...)  \n",
    "* для управления отображением в интерпретаторе (format ...)  \n",
    "* для доступа к элементам (getitem, setitem, len ...)  "
   ]
  },
  {
   "cell_type": "markdown",
   "metadata": {},
   "source": [
    "Подробнее про магические методы:  \n",
    "* с помощью инструментов из модуля functools - можно описать сравнение через пару методов, остальные автоматически будут.  \n",
    "* https://docs.python.org/3.5/reference/datamodel.html#specialnames  "
   ]
  },
  {
   "cell_type": "markdown",
   "metadata": {},
   "source": [
    "## Объект как словарь\n",
    "\n",
    "* hasattr(object, attrname) - проверить есть ли аттрибут attrname у объекта.\n",
    "* getattr(object, attrname, [default]) - взять у объекта значение аттрибута (default, если такого нет; можно описать \\_\\_getattr\\_\\_).\n",
    "* setattr(object, name, value) - установить аттрибут name в значение value."
   ]
  },
  {
   "cell_type": "markdown",
   "metadata": {},
   "source": [
    "## Наследование\n",
    "\n",
    "* Наследование - способ обобщения, механизм языка позволяющий описать новый класс на основе существующего.\n",
    "* В Python также поддерживается множественное наследование (более одного предка).\n",
    "* Во многих случах принято обходиться без наследования - добавляет сложностей - используйте только там, где есть разумная потребность.\n",
    "* Множественное наследование требуется ещё реже и добавляет ещё больше сложностей.\n",
    "* Одно из допустимых применений множественного наследования - создание классов-примесей (mixin).\n",
    "* Хороший пример про примеси: https://stackoverflow.com/questions/533631/what-is-a-mixin-and-why-are-they-useful"
   ]
  },
  {
   "cell_type": "markdown",
   "metadata": {},
   "source": [
    "### Одиночное наследование"
   ]
  },
  {
   "cell_type": "code",
   "execution_count": 11,
   "metadata": {},
   "outputs": [
    {
     "name": "stdout",
     "output_type": "stream",
     "text": [
      "Name: John, Surname: Doe\n",
      "Name: Jane, Surname: Doe\n",
      "Name: Jack, Surname: Snow\n"
     ]
    }
   ],
   "source": [
    "class Parent:\n",
    "    def __init__(self, surname=\"Doe\"):\n",
    "        self.surname = surname\n",
    "\n",
    "    def __str__(self):\n",
    "        return \"Surname: {surname}\".format(surname=self.surname)\n",
    "\n",
    "class Child(Parent):\n",
    "    def __init__(self, name, surname=None):\n",
    "        if surname is not None:\n",
    "            super(Child, self).__init__(surname=surname)\n",
    "        else:\n",
    "            super(Child, self).__init__()\n",
    "\n",
    "        self.name = name\n",
    "\n",
    "    def __str__(self):\n",
    "        description = super(Child, self).__str__()\n",
    "        return \"Name: {name}, {suffix}\".format(name=self.name, suffix=description)\n",
    "\n",
    "boy = Child(\"John\")\n",
    "girl = Child(\"Jane\")\n",
    "other = Child(\"Jack\", surname=\"Snow\")\n",
    "\n",
    "print(boy)\n",
    "print(girl)\n",
    "print(other)"
   ]
  },
  {
   "cell_type": "markdown",
   "metadata": {},
   "source": [
    "* Особая функция super() позволяет получать доступ к родительскому классу явно не указывая его имени.\n",
    "* Возвращает прокси-объект через который осуществляется обращение к нужному объекту.\n",
    "* С помощью её обычно вызывается метод предка, который перекрывается в текущем классе.\n",
    "* Позволяет писать более обобщаемый код.\n",
    "* Кроме этого, super() используется при множественном наследовании для динамического определения вызываемого объекта.\n",
    "* Подробнее про super():\n",
    "  * https://docs.python.org/3.5/library/functions.html#super\n",
    "  * http://www.artima.com/weblogs/viewpost.jsp?thread=236275\n",
    "  * http://www.artima.com/weblogs/viewpost.jsp?thread=236278\n",
    "  * https://www.artima.com/weblogs/viewpost.jsp?thread=237121"
   ]
  },
  {
   "cell_type": "markdown",
   "metadata": {},
   "source": [
    "### Множественно наследование"
   ]
  },
  {
   "cell_type": "code",
   "execution_count": 12,
   "metadata": {},
   "outputs": [
    {
     "name": "stdout",
     "output_type": "stream",
     "text": [
      "Hello from child\n",
      "(<class '__main__.Child'>, <class '__main__.Mother'>, <class '__main__.Father'>, <class 'object'>)\n"
     ]
    }
   ],
   "source": [
    "class Mother:\n",
    "    def hello(self):\n",
    "        print(\"Hello from mother\")\n",
    "\n",
    "class Father:\n",
    "    def hello(self):\n",
    "        print(\"Hello from father\")\n",
    "\n",
    "class Child(Mother, Father):\n",
    "    def hello(self):\n",
    "        print(\"Hello from child\")\n",
    "\n",
    "child = Child()\n",
    "child.hello()\n",
    "print(child.__class__.__mro__)"
   ]
  },
  {
   "cell_type": "markdown",
   "metadata": {},
   "source": [
    "* MRO - method resolution order - некоторый порядок выбора метода при вызове.\n",
    "* Актуален при множественном наследовании.\n",
    "* Для new-style classes определяется динамически и задаётся некоторым набором правил.\n",
    "* Детальнее и глубже про mro можно почитать:\n",
    "  * https://www.python.org/download/releases/2.3/mro/\n",
    "  * https://stackoverflow.com/questions/1848474/method-resolution-order-mro-in-new-style-python-classes\n",
    "  * http://habrahabr.ru/post/62203/"
   ]
  },
  {
   "cell_type": "markdown",
   "metadata": {},
   "source": [
    "## Приватные поля и методы\n",
    "\n",
    "* В питоне нет привычных приватных полей и методов.\n",
    "* Есть соглашение: переменные начинающиеся с нижнего подчёркивания стоит считать внутренними деталями реализации и не обращаться к ним снаружи."
   ]
  },
  {
   "cell_type": "markdown",
   "metadata": {},
   "source": [
    "## Name mangling\n",
    "\n",
    "* Есть дополнительный ограничивающий механизм - name mangling (искажение имён).\n",
    "* Он применяется для переменных, имя которых начинается с двух нижних подчёркиваний.\n",
    "* Имя таких переменных неявно приводится к другому виду: \\_\\_name -> \\_classname\\_\\_name .\n",
    "* Доступа из потомков по обычному имени нет совсем.\n",
    "* Доступ снаружи только по искаженному имени.\n",
    "* Применяется иногда для избегания коллизий в сложных иерархиях.\n",
    "* Рекомендуется не злоупотребрять и использовать только при осознаной необходимости."
   ]
  },
  {
   "cell_type": "markdown",
   "metadata": {},
   "source": [
    "## Итераторы\n",
    "\n",
    "* Итератор - объект, имеющий метод \\__next\\__() и реализующий корректное поведение при его использовании. [3.x]\n",
    "* Метод \\__next()\\__ должен иметь следующую семантику: вернуть текущий объект, а следующий сделать текущим.\n",
    "* Если текущего объекта нет, то вызвать исключение StopIteration."
   ]
  },
  {
   "cell_type": "code",
   "execution_count": 13,
   "metadata": {},
   "outputs": [
    {
     "name": "stdout",
     "output_type": "stream",
     "text": [
      "[]\n"
     ]
    }
   ],
   "source": [
    "class SomeIter:\n",
    "    def __iter__(self):\n",
    "        return self\n",
    "\n",
    "    def __next__(self):\n",
    "        raise StopIteration()\n",
    "\n",
    "print([val for val in SomeIter()])"
   ]
  },
  {
   "cell_type": "code",
   "execution_count": 14,
   "metadata": {},
   "outputs": [
    {
     "name": "stdout",
     "output_type": "stream",
     "text": [
      "[]\n"
     ]
    }
   ],
   "source": [
    "class ContainerIter:\n",
    "    def __init__(self, cont):\n",
    "        self.cont = cont\n",
    "\n",
    "    def __next__(self):\n",
    "        raise StopIteration()\n",
    "\n",
    "class Container:\n",
    "    def __iter__(self):\n",
    "        return ContainerIter(self)\n",
    "\n",
    "print([val for val in Container()])"
   ]
  },
  {
   "cell_type": "markdown",
   "metadata": {},
   "source": [
    "### Цикл for и итерирование\n",
    "\n",
    "* for вызывает функцию iter(obj) от переданного ему объекта после ключевого слова in.\n",
    "* В результате вызова должен быть получен объект итератор.\n",
    "* Далее for использует \\__next\\__(), пока не будет вызвано исключение StopIteration.\n",
    "* Чтобы добавить в свой класс возможность итерирования по нему следует определить магический метод \\_\\_iter\\_\\_ так, чтобы он возвращал итератор.\n",
    "* Таким образом, мы теперь можем называть объект iterable, когда в нём дана возможность получения итератора и итерирования.\n",
    "* Кроме этого, объект ещё iterable, когда у него есть \\_\\_getitem\\_\\_ способный принимать последовательные индексы начиная с 0 и бросающий IndexError при окончании промежутка (так у строк)."
   ]
  },
  {
   "cell_type": "markdown",
   "metadata": {},
   "source": [
    "Почитать про итераторы:  \n",
    "* PEP про итераторы - https://www.python.org/dev/peps/pep-0234/"
   ]
  },
  {
   "cell_type": "markdown",
   "metadata": {},
   "source": [
    "## Генераторы\n",
    "\n",
    "* Генератор - простой механизм создания итераторов.\n",
    "* Выглядит как обычная функция, но вместо return используется ключевое слово yield.\n",
    "* \\_\\_iter\\_\\_ и \\_\\_next\\_\\_() создаются для генератора автоматически.\n",
    "* При каждом вызове \\_\\_next\\_\\_() генератор продолжает выполняться с момента остановки (первый раз - начало функции, остальные - последний yield).\n",
    "* Промежуточное состояние сохраняется автоматически между вызовами.\n",
    "* После окончания выполнения (внутри функции дошли до конца) автоматически выбрасывается StopIteration."
   ]
  },
  {
   "cell_type": "code",
   "execution_count": 15,
   "metadata": {},
   "outputs": [
    {
     "name": "stdout",
     "output_type": "stream",
     "text": [
      "<class 'function'> <class 'generator'>\n",
      "['__class__', '__del__', '__delattr__', '__dir__', '__doc__', '__eq__', '__format__', '__ge__', '__getattribute__', '__gt__', '__hash__', '__init__', '__iter__', '__le__', '__lt__', '__name__', '__ne__', '__new__', '__next__', '__qualname__', '__reduce__', '__reduce_ex__', '__repr__', '__setattr__', '__sizeof__', '__str__', '__subclasshook__', 'close', 'gi_code', 'gi_frame', 'gi_running', 'gi_yieldfrom', 'send', 'throw']\n",
      "[1, 2, 3, 4, 5, 6, 7, 8, 9, 10]\n"
     ]
    }
   ],
   "source": [
    "def counter():\n",
    "    val = 1\n",
    "    for ind in range(10):\n",
    "        yield val\n",
    "        val = val + 1\n",
    "\n",
    "print(type(counter), type(counter()))\n",
    "print(dir(counter()))\n",
    "\n",
    "\n",
    "print([val for val in counter()])"
   ]
  },
  {
   "cell_type": "markdown",
   "metadata": {},
   "source": [
    "## Генераторные выражения\n",
    "\n",
    "* Записываются полностью как list comprehensions, только вместо квадратных скобок - круглые.\n",
    "* Генераторное выражение возвращает генератор.\n",
    "* Используется более короткая, но и более ограниченная форма записи."
   ]
  },
  {
   "cell_type": "code",
   "execution_count": 16,
   "metadata": {},
   "outputs": [
    {
     "name": "stdout",
     "output_type": "stream",
     "text": [
      "<generator object <genexpr> at 0x7fa5e0178fc0>\n",
      "[1, 2, 3]\n",
      "[]\n"
     ]
    }
   ],
   "source": [
    "gen = (val for val in [1, 2, 3])\n",
    "print(gen)\n",
    "print([val for val in gen])\n",
    "print([val for val in gen])"
   ]
  },
  {
   "cell_type": "markdown",
   "metadata": {},
   "source": [
    "## Декораторы"
   ]
  },
  {
   "cell_type": "markdown",
   "metadata": {},
   "source": [
    "* Декоратор - способ задания изменения поведения некоторой функции.\n",
    "* По сути, представляет собой функцию, которая принимает и возвращает функции.\n",
    "* Задаются просто созданием подходящей функции.\n",
    "* Применяются записью перед телом функции после символа @."
   ]
  },
  {
   "cell_type": "code",
   "execution_count": 17,
   "metadata": {},
   "outputs": [
    {
     "name": "stdout",
     "output_type": "stream",
     "text": [
      "-4\n",
      "4\n"
     ]
    }
   ],
   "source": [
    "def multiply_result(func):\n",
    "    def multiplier(*args, **kwargs):\n",
    "        return -1 * func(*args, **kwargs)\n",
    "\n",
    "    return multiplier\n",
    "\n",
    "@multiply_result\n",
    "def get_random_value():\n",
    "    return 4\n",
    "\n",
    "def get_one_more_random_value():\n",
    "    return 4\n",
    "\n",
    "print(get_random_value())\n",
    "print(get_one_more_random_value())"
   ]
  },
  {
   "cell_type": "markdown",
   "metadata": {},
   "source": [
    "### Некоторые встроенные декораторы"
   ]
  },
  {
   "cell_type": "markdown",
   "metadata": {},
   "source": [
    "* @classmethod - делает из функции т.н. классовый метод.\n",
    "* @staticmethod - делает из функции статический метод класса."
   ]
  },
  {
   "cell_type": "code",
   "execution_count": 18,
   "metadata": {},
   "outputs": [
    {
     "name": "stdout",
     "output_type": "stream",
     "text": [
      "SomeClass\n",
      "ChildClass\n"
     ]
    }
   ],
   "source": [
    "class SomeClass:\n",
    "    @classmethod\n",
    "    def print_name(cls):\n",
    "        print(cls.__name__)\n",
    "\n",
    "class ChildClass(SomeClass):\n",
    "    pass\n",
    "\n",
    "SomeClass.print_name()\n",
    "ChildClass.print_name()"
   ]
  },
  {
   "cell_type": "code",
   "execution_count": 19,
   "metadata": {},
   "outputs": [
    {
     "name": "stdout",
     "output_type": "stream",
     "text": [
      "Hello!\n"
     ]
    }
   ],
   "source": [
    "class SomeOtherClass:\n",
    "\n",
    "    @staticmethod\n",
    "    def print_hello():\n",
    "        print(\"Hello!\")\n",
    "\n",
    "SomeOtherClass.print_hello()"
   ]
  },
  {
   "cell_type": "markdown",
   "metadata": {},
   "source": [
    "Чтиво про декораторы:\n",
    "\n",
    "* https://www.python.org/dev/peps/pep-0318/\n",
    "* http://thecodeship.com/patterns/guide-to-python-function-decorators/\n",
    "* http://habrahabr.ru/post/46306/"
   ]
  },
  {
   "cell_type": "markdown",
   "metadata": {},
   "source": [
    "## Что почитать"
   ]
  },
  {
   "cell_type": "markdown",
   "metadata": {},
   "source": [
    "Заметки по объектной системе языка:  \n",
    "\n",
    "* http://habrahabr.ru/post/114576/ (первая часть статьи)  \n",
    "* http://habrahabr.ru/post/114585/ (вторая часть статьи)  \n",
    "* http://habrahabr.ru/post/114587/ (третья часть статьи)  "
   ]
  },
  {
   "cell_type": "markdown",
   "metadata": {},
   "source": [
    "Детальнее про модель данных в справочнике по языку: https://docs.python.org/3.5/reference/datamodel.html  "
   ]
  },
  {
   "cell_type": "markdown",
   "metadata": {},
   "source": [
    "HOWTO по некоторым элементам функционального программирования в Python: https://docs.python.org/3.5/howto/functional.html  "
   ]
  }
 ],
 "metadata": {
  "kernelspec": {
   "display_name": "Python 3",
   "language": "python",
   "name": "python3"
  },
  "language_info": {
   "codemirror_mode": {
    "name": "ipython",
    "version": 3
   },
   "file_extension": ".py",
   "mimetype": "text/x-python",
   "name": "python",
   "nbconvert_exporter": "python",
   "pygments_lexer": "ipython3",
   "version": "3.8.1"
  }
 },
 "nbformat": 4,
 "nbformat_minor": 1
}

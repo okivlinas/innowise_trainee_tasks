{
 "cells": [
  {
   "cell_type": "markdown",
   "metadata": {},
   "source": [
    "# Лекция 5: обработка ошибок, классы\n",
    "\n",
    "На этой лекции рассмотрим обработку ошибок и взглянем на классы."
   ]
  },
  {
   "cell_type": "markdown",
   "metadata": {},
   "source": [
    "## Обработка ошибок  \n",
    "\n",
    "### Типы ошибок \n",
    "\n",
    "* Основные идеи обработки ошибок в общем: коды возврата vs обработка исключений.\n",
    "* В Python для обработки ошибок используются исключения.\n",
    "* Два основных типа ошибок в Python: синтаксические ошибки и исключения.\n",
    "* Синтаксические ошибки (SyntaxError) - ошибки синтаксиса языка, возникают во время парсинга файла с исходным кодом.\n",
    "* Исключения (исключительные ситуации, exceptions) - ошибки возникающие во время выполнения программы."
   ]
  },
  {
   "cell_type": "markdown",
   "metadata": {},
   "source": [
    "### Исключения  \n",
    "\n",
    "* При возникновении исключения создаётся объект-исключение, который также может содержать дополнительную информацию описывающую ошибку.  \n",
    "* С места возникновения ошибки начинается \"раскрутка стека\": программа принудительно возвращается по иерархии вызовов функций до корня.  \n",
    "* Если на этом \"пути\" исключение никак не обработано, то ошибка приводит к завершению программы.  \n",
    "* Обработка исключений осуществляется с помощью блока try...except.\n",
    "* Исключения могут возникать явно (оператор raise явно использован в пользовательском коде) и неявно (действия приводящие к ошибке, в т.ч. в сторонних библиотеках).  \n",
    "* В стандартной библиотеке языка определён список встроенных типов исключений.  \n",
    "* Есть возможность создания пользовательских типов исключений."
   ]
  },
  {
   "cell_type": "markdown",
   "metadata": {},
   "source": [
    "Рассмотрим простой пример обработки исключения при обращении к несуществующему ключу в словаре:"
   ]
  },
  {
   "cell_type": "code",
   "execution_count": 1,
   "metadata": {},
   "outputs": [
    {
     "name": "stdout",
     "output_type": "stream",
     "text": [
      "<class 'KeyError'> 'a'\n"
     ]
    }
   ],
   "source": [
    "d = dict()\n",
    "\n",
    "try:\n",
    "    print(d[\"a\"])\n",
    "except Exception as e:\n",
    "    print(type(e), e)"
   ]
  },
  {
   "cell_type": "markdown",
   "metadata": {},
   "source": [
    "Можно перечислять несколько вариантов перехватываемых (обычно от более точных к менее):"
   ]
  },
  {
   "cell_type": "code",
   "execution_count": 2,
   "metadata": {},
   "outputs": [
    {
     "name": "stdout",
     "output_type": "stream",
     "text": [
      "I see key error\n"
     ]
    }
   ],
   "source": [
    "d = dict()\n",
    "\n",
    "try:\n",
    "    print(d[\"a\"])\n",
    "except KeyError as e:\n",
    "    print(\"I see key error\")\n",
    "except Exception as e:\n",
    "    print(type(e), e)"
   ]
  },
  {
   "cell_type": "markdown",
   "metadata": {},
   "source": [
    "Опишем вспомогательные функции:"
   ]
  },
  {
   "cell_type": "code",
   "execution_count": 3,
   "metadata": {},
   "outputs": [],
   "source": [
    "def f(index):\n",
    "    index = int(index)\n",
    "    \n",
    "    if index != 0:\n",
    "        index = index + \"a\"\n",
    "\n",
    "    msg = \"Don't do that. Instead of raising bare exceptions, use more specific error type.\"\n",
    "    raise Exception(msg)\n",
    "\n",
    "def catch_that(func, val):\n",
    "    try:\n",
    "        func(val)\n",
    "    except ValueError:\n",
    "        print(\"ValueError. I don't want variable e so I don't mention it\")\n",
    "    except Exception as e:\n",
    "        print(\"Exception \", type(e))\n",
    "    except:\n",
    "        print(\"Something strange is going on here\")"
   ]
  },
  {
   "cell_type": "code",
   "execution_count": 4,
   "metadata": {},
   "outputs": [
    {
     "name": "stdout",
     "output_type": "stream",
     "text": [
      "ValueError. I don't want variable e so I don't mention it\n"
     ]
    }
   ],
   "source": [
    "catch_that(f, \"a\")"
   ]
  },
  {
   "cell_type": "code",
   "execution_count": 5,
   "metadata": {},
   "outputs": [
    {
     "name": "stdout",
     "output_type": "stream",
     "text": [
      "Exception  <class 'TypeError'>\n"
     ]
    }
   ],
   "source": [
    "catch_that(f, -1)"
   ]
  },
  {
   "cell_type": "code",
   "execution_count": 6,
   "metadata": {},
   "outputs": [
    {
     "name": "stdout",
     "output_type": "stream",
     "text": [
      "Exception  <class 'Exception'>\n"
     ]
    }
   ],
   "source": [
    "catch_that(f, 0)"
   ]
  },
  {
   "cell_type": "markdown",
   "metadata": {},
   "source": [
    "### Замечания про бросание исключений  \n",
    "* Про встроенные исключения можно почитать здесь: https://docs.python.org/3.5/library/exceptions.html#bltin-exceptions    \n",
    "* При выбрасывании исключений старайтесь использовать как можно более близкий по смыслу тип встроенного исключения.  \n",
    "* При необходимости, реализовывайте свои типы исключений, которые наследуйте от подходящих встроенных.  "
   ]
  },
  {
   "cell_type": "markdown",
   "metadata": {},
   "source": [
    "### Ещё про перехват"
   ]
  },
  {
   "cell_type": "code",
   "execution_count": 7,
   "metadata": {},
   "outputs": [],
   "source": [
    "def catch_that_again(f):\n",
    "    try:\n",
    "        f()\n",
    "    except (ValueError, TypeError):\n",
    "        print(\"Hey! I know that guy!\")\n",
    "    except:\n",
    "        print(\"Huh?\")\n",
    "    else:\n",
    "        print(\"Everythin is ok\")\n",
    "    finally:\n",
    "        print(\"Finally!\")"
   ]
  },
  {
   "cell_type": "code",
   "execution_count": 8,
   "metadata": {},
   "outputs": [
    {
     "name": "stdout",
     "output_type": "stream",
     "text": [
      "Hey! I know that guy!\n",
      "Finally!\n"
     ]
    }
   ],
   "source": [
    "def raise_them_all():\n",
    "    raise ValueError()\n",
    "\n",
    "catch_that_again(raise_them_all)"
   ]
  },
  {
   "cell_type": "code",
   "execution_count": 9,
   "metadata": {},
   "outputs": [
    {
     "name": "stdout",
     "output_type": "stream",
     "text": [
      "Hello\n",
      "Everythin is ok\n",
      "Finally!\n"
     ]
    }
   ],
   "source": [
    "def say_hello():\n",
    "    print(\"Hello\")\n",
    "\n",
    "catch_that_again(say_hello)"
   ]
  },
  {
   "cell_type": "code",
   "execution_count": 10,
   "metadata": {},
   "outputs": [
    {
     "name": "stdout",
     "output_type": "stream",
     "text": [
      "Huh?\n",
      "Finally!\n"
     ]
    }
   ],
   "source": [
    "def break_things():\n",
    "    a =  1 / 0\n",
    "\n",
    "catch_that_again(break_things)"
   ]
  },
  {
   "cell_type": "markdown",
   "metadata": {},
   "source": [
    "### Замечания по перехвату\n",
    "* finally позволяет определить действия, которые выполнятся при выходе из блока try..except по любой причине (успешное выполнение, исключение, return, break, continue).\n",
    "* Внимательнее с \"except:\" - такую форму использовать не рекомендуется, т.к. она очень просто маскирует ошибки.  \n",
    "* Иногда требуется перехватить исключение, выполнить какие-то действия, и снова отправить исключение это же в путь - в таком случае используйте оператор raise без аргументов.\n",
    "* Если же в подобном случае указать явно тип исключения в raise при его перевыбрасывании, то потеряется информация (например, stacktrace)."
   ]
  },
  {
   "cell_type": "markdown",
   "metadata": {},
   "source": [
    "Пример повторного выбрасывания:"
   ]
  },
  {
   "cell_type": "code",
   "execution_count": 11,
   "metadata": {},
   "outputs": [],
   "source": [
    "def catch_and_show():\n",
    "    try:\n",
    "        raise NameError(\"What are you doing at my house!?\")\n",
    "    except:\n",
    "        print(\"Who are you?\")\n",
    "        raise"
   ]
  },
  {
   "cell_type": "code",
   "execution_count": 12,
   "metadata": {},
   "outputs": [
    {
     "name": "stdout",
     "output_type": "stream",
     "text": [
      "Who are you?\n",
      "What are you doing at my house!? <class 'NameError'>\n",
      "Go away! I will call the police!\n"
     ]
    },
    {
     "name": "stderr",
     "output_type": "stream",
     "text": [
      "  File \"<ipython-input-12-57d0cbe16679>\", line 5, in <module>\n",
      "    catch_and_show()\n",
      "  File \"<ipython-input-11-fb9a6f84f747>\", line 3, in catch_and_show\n",
      "    raise NameError(\"What are you doing at my house!?\")\n"
     ]
    }
   ],
   "source": [
    "import sys\n",
    "import traceback\n",
    "\n",
    "try:\n",
    "    catch_and_show()\n",
    "except NameError as e:\n",
    "    print(e, type(e))\n",
    "    print(\"Go away! I will call the police!\")\n",
    "    traceback.print_tb(sys.exc_info()[2])"
   ]
  },
  {
   "cell_type": "markdown",
   "metadata": {},
   "source": [
    "## Пример простого класса\n",
    "\n",
    "Попробуем написать и рассмотреть пример простого класса."
   ]
  },
  {
   "cell_type": "code",
   "execution_count": 13,
   "metadata": {},
   "outputs": [],
   "source": [
    "class Aggregator: # [3.x], before (object) was here\n",
    "    SOME_CLASS_VARIABLE = \"ahaha\" + \"aba\"\n",
    "\n",
    "    def __init__(self):\n",
    "        self.total_sum = 0\n",
    "        self.elements_count = 0\n",
    "\n",
    "    def add_value(self, value):\n",
    "        self.total_sum += value\n",
    "        self.elements_count += 1\n",
    "\n",
    "    def get_average(self):\n",
    "        return self.total_sum / self.elements_count\n",
    "\n",
    "    def get_sum(self):\n",
    "        return self.total_sum"
   ]
  },
  {
   "cell_type": "code",
   "execution_count": 14,
   "metadata": {},
   "outputs": [
    {
     "name": "stdout",
     "output_type": "stream",
     "text": [
      "ahahaaba\n",
      "<class 'type'>\n"
     ]
    }
   ],
   "source": [
    "print(Aggregator.SOME_CLASS_VARIABLE)\n",
    "print(type(Aggregator))"
   ]
  },
  {
   "cell_type": "markdown",
   "metadata": {},
   "source": [
    "### Разговор про обработку ошибок в больших проектах\n",
    "* Экстренное завершение vs возврат в состояние\n",
    "* Трейс и контекст ошибки\n",
    "* Логирование\n",
    "* Графики\n",
    "* Статистика\n",
    "* Мониторинги"
   ]
  }
 ],
 "metadata": {
  "kernelspec": {
   "display_name": "Python 3",
   "language": "python",
   "name": "python3"
  },
  "language_info": {
   "codemirror_mode": {
    "name": "ipython",
    "version": 3
   },
   "file_extension": ".py",
   "mimetype": "text/x-python",
   "name": "python",
   "nbconvert_exporter": "python",
   "pygments_lexer": "ipython3",
   "version": "3.8.5"
  }
 },
 "nbformat": 4,
 "nbformat_minor": 4
}

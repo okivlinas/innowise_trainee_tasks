{
 "cells": [
  {
   "cell_type": "markdown",
   "metadata": {},
   "source": [
    "# Лекция 3: базовые элементы языка Python - продолжение\n",
    "\n",
    "В рамках этой части лекции продолжим рассматривать базовые элементы языка Python."
   ]
  },
  {
   "cell_type": "markdown",
   "metadata": {
    "slideshow": {
     "slide_type": "slide"
    }
   },
   "source": [
    "## Операторы\n",
    "\n",
    "### Арифметические\n",
    "* +, -, *, % - как обычно (в C/C++).  \n",
    "* / - дробное деление, в результате float. [3.x]  \n",
    "* // - целочисленное деление, в результате int. [3.x]  \n",
    "* \\** - возведение в степень"
   ]
  },
  {
   "cell_type": "markdown",
   "metadata": {
    "slideshow": {
     "slide_type": "slide"
    }
   },
   "source": [
    "### Сравнение\n",
    "* ==, <, <=, >, >= - как обычно\n",
    "* a < b < c - составное сравнение.\n",
    "* Составное сравнение вычисляется лениво и могут не все выражения вычислиться.\n",
    "* Результат bool().\n",
    "* Исключение TypeError в случае сравнения несравнимых (число и строка, и т.п.) [3.x]"
   ]
  },
  {
   "cell_type": "markdown",
   "metadata": {
    "slideshow": {
     "slide_type": "slide"
    }
   },
   "source": [
    "### Логические\n",
    "* and - логическое и\n",
    "* or - логическое или\n",
    "* not - унарное отрицание\n",
    "* Результат and и or не обязательно bool() и на вход не обязательно bool() - подробности ниже.\n",
    "* Все пустые значения приводятся к False (\"\", 0, None, 0.0, [], and {}), непустые - к True.\n",
    "* Помнить и понимать, что and и or вычисляются лениво."
   ]
  },
  {
   "cell_type": "markdown",
   "metadata": {},
   "source": [
    "#### and\n",
    "* Если любое из значений False (или приводится к False), то and вернёт первое такое значение.  \n",
    "* Если все значения True (или приводятся к True), то and вернёт последнее такое значение.  "
   ]
  },
  {
   "cell_type": "code",
   "execution_count": 1,
   "metadata": {},
   "outputs": [],
   "source": [
    "# and"
   ]
  },
  {
   "cell_type": "markdown",
   "metadata": {},
   "source": [
    "#### or\n",
    "* Если любое из значений True (или приводится к True), то or вернёт первое такое значение.\n",
    "* Если все значения False (или приводятся к False), то or вернёт последнее такое значение."
   ]
  },
  {
   "cell_type": "code",
   "execution_count": 2,
   "metadata": {},
   "outputs": [],
   "source": [
    "# or"
   ]
  },
  {
   "cell_type": "markdown",
   "metadata": {
    "slideshow": {
     "slide_type": "slide"
    }
   },
   "source": [
    "### Бинарные\n",
    "* & - побитовое и\n",
    "* | - побитовое или\n",
    "* ^ - исключающее или\n",
    "* << и >> - сдвиги"
   ]
  },
  {
   "cell_type": "code",
   "execution_count": 3,
   "metadata": {},
   "outputs": [
    {
     "name": "stdout",
     "output_type": "stream",
     "text": [
      "<class 'int'> 1180591620717411303424 0b10000000000000000000000000000000000000000000000000000000000000000000000 73\n"
     ]
    }
   ],
   "source": [
    "# binary\n",
    "a = 1\n",
    "print(type(a << 70), a << 70, bin(a << 70), len(bin(a << 70)))"
   ]
  },
  {
   "cell_type": "markdown",
   "metadata": {
    "slideshow": {
     "slide_type": "slide"
    }
   },
   "source": [
    "### Условные\n",
    "* if condition:\n",
    "* elif condition: - не обязателен\n",
    "* else: - не обязателен\n",
    "* Составные многострочные условия можно заключать в скобки.\n",
    "* Сложные условия лучше заносить в переменные и проверять их."
   ]
  },
  {
   "cell_type": "code",
   "execution_count": 4,
   "metadata": {},
   "outputs": [
    {
     "name": "stdout",
     "output_type": "stream",
     "text": [
      "a > 2\n",
      "1 <= a <= 3\n",
      "Hmm, is it an alphabet?\n"
     ]
    }
   ],
   "source": [
    "# conditions\n",
    "a = 3\n",
    "if a > 2:\n",
    "    print(\"a > 2\")\n",
    "\n",
    "if a > 3:\n",
    "    print(\"a > 3\")\n",
    "elif a < 1:\n",
    "    print(\"a < 1\")\n",
    "else:\n",
    "    print(\"1 <= a <= 3\")\n",
    "\n",
    "s = \"abcdefgh\"\n",
    "is_looks_like_alphabet = s.startswith(\"abc\") or s.endswith(\"xyz\")\n",
    "if is_looks_like_alphabet:\n",
    "    print(\"Hmm, is it an alphabet?\")"
   ]
  },
  {
   "cell_type": "markdown",
   "metadata": {
    "slideshow": {
     "slide_type": "slide"
    }
   },
   "source": [
    "### Циклы\n",
    "* while condition: - обычный цикл while  \n",
    "* for elem in iterable: - цикл for как итерирование  \n",
    "* есть continue и break  \n",
    "* range([start,] stop[, step]) - для задания iterable промежутка.   \n",
    "* можно поставить else в конце - выполнится, если не бы break - но лучше не использовать, т.к. сложнее читать."
   ]
  },
  {
   "cell_type": "code",
   "execution_count": 5,
   "metadata": {},
   "outputs": [
    {
     "name": "stdout",
     "output_type": "stream",
     "text": [
      "2\n",
      "4\n",
      "6\n",
      "8\n",
      "10\n"
     ]
    }
   ],
   "source": [
    "# loops\n",
    "\n",
    "counter = 0\n",
    "while counter < 10:\n",
    "    counter += 2\n",
    "    print(counter)"
   ]
  },
  {
   "cell_type": "code",
   "execution_count": 6,
   "metadata": {},
   "outputs": [
    {
     "name": "stdout",
     "output_type": "stream",
     "text": [
      "1\n",
      "2\n",
      "100500\n"
     ]
    }
   ],
   "source": [
    "numbers = [1, 2, 100500]\n",
    "\n",
    "for number in numbers:\n",
    "    print(number)"
   ]
  },
  {
   "cell_type": "code",
   "execution_count": 7,
   "metadata": {},
   "outputs": [
    {
     "name": "stdout",
     "output_type": "stream",
     "text": [
      "0\n",
      "1\n",
      "2\n",
      "3\n",
      "4\n",
      "5\n",
      "6\n",
      "7\n",
      "8\n",
      "9\n"
     ]
    }
   ],
   "source": [
    "for elem in range(10):\n",
    "    print(elem)"
   ]
  },
  {
   "cell_type": "markdown",
   "metadata": {
    "slideshow": {
     "slide_type": "slide"
    }
   },
   "source": [
    "### Особые\n",
    "* in - вхождение элемента в коллекцию.\n",
    "* is - проверка идентичности двух объектов.\n",
    "    + Переменные должны указывать на один и тот же объект, а не только иметь одинаковое значение.\n",
    "    + is принято использовать для сравнения с None.\n",
    "* del - удаление\n",
    "    + переменной (больше имя не ссылается на значение)\n",
    "    + элемента коллекции или части коллекции (срез)\n",
    "* pass\n",
    "    + ничего не делает (nop)\n",
    "    + удобно для создания наброска набора функций или иерархии классов "
   ]
  },
  {
   "cell_type": "code",
   "execution_count": 8,
   "metadata": {},
   "outputs": [
    {
     "name": "stdout",
     "output_type": "stream",
     "text": [
      "Found it!\n"
     ]
    }
   ],
   "source": [
    "# other\n",
    "#numbers = [1, 2, 100500]\n",
    "numbers = set([1, 2, 100500])\n",
    "\n",
    "if 2 in numbers:\n",
    "    print(\"Found it!\")"
   ]
  },
  {
   "cell_type": "markdown",
   "metadata": {
    "slideshow": {
     "slide_type": "slide"
    }
   },
   "source": [
    "## Функции\n",
    "\n",
    "Определение:\n",
    "\n",
    "* Являются объектами (понятие function is a first-class citizen).\n",
    "* Задаются с помощью ключевого слова def.\n"
   ]
  },
  {
   "cell_type": "markdown",
   "metadata": {},
   "source": [
    "Возвращаемое значение:\n",
    "\n",
    "* Тип возвращаемого значения не задаётся.\n",
    "* Возвращаемое значение с помощью return.\n",
    "* Если нет return, то вернёт None.\n"
   ]
  },
  {
   "cell_type": "markdown",
   "metadata": {},
   "source": [
    "Аргументы:\n",
    "\n",
    "* Аргументы передаются по ссылке.\n",
    "* Типы аргументов не задаются.\n",
    "* Обязательные и опциональные аргументы - в месте определения, задано ли значение по-умолчанию.\n",
    "* Позиционные и именованные аргументы - в месте вызова, в зависимости от способа передачи при вызове.\n",
    "* Позиционные задаются и распределяются по порядку.\n",
    "* Именованные аргументы задаются при вызове с явным указанием имени переменной.\n",
    "* Значение аргумента по-умолчанию создаётся только один раз - потенциальные проблемы (сохранённое состояние, общий контейнер).\n",
    "* В определении параметров функции идут сначала обязательные, потом опциональные аргументы.\n",
    "* При вызове в передаче параметров функции аргументы следует задавать сначала позиционно, потом по имени.\n",
    "* Собирающие аргументы \\*args и \\*\\*kwargs.\n",
    "* \\*args - все неперечисленные явно, но переданные позиционные аргументы будут помещены в аргумент-кортеж с указанным именем.\n",
    "* \\*\\*kwargs - все неперечисленные явно, но переданные именованные аргументы будут помещены в аргумент-словарь с указанным именем.\n",
    "* Порядок определения: обязательные, опциональные, \\*args, \\*\\*kwargs.\n",
    "* Порядок передачи при вызове: позиционные, именованные. А далее они распределяются по описанным в определении, в т.ч. по \\*args и \\*\\*kwargs."
   ]
  },
  {
   "cell_type": "markdown",
   "metadata": {},
   "source": [
    "Замечание про описание и передачу аргументов:\n",
    "\n",
    "* Строго говоря, между обязательными и позиционными, а также между опциональными и именованными нет требования взаимно-однозначного соответствия: опциональные могут передаваться с помощью позиционных, обязательные - по имени.\n",
    "* Однако лучше придерживаться такого соглашения: передавать обязательные позиционно и опциональные непозиционно. В противном случае могут быть ситуации неконсистентного использования, а то и ошибок, и придётся задумываться о лишним вещах:\n",
    "  - В некоторых фреймворках принято переиспользовать или перекрывать некоторое поведение путём перехвата в оборачивающией функции kwargs аргументов и каких-нибудь действий над этим контейнером.\n",
    "  - Некоторые функции с обязательными аргументами не будут нормально вызываться при передаче аргумента по имени (см. split(sep)). Это связано с особенностями внутренней реализации нативных методов. https://bugs.python.org/issue1176\n",
    "  - При чтении кода, в котором придерживаются соглашения выше, проще понимать, что и куда идёт, а также как с ним работать и чего ожидать."
   ]
  },
  {
   "cell_type": "markdown",
   "metadata": {},
   "source": [
    "Локальные переменные:\n",
    "\n",
    "* Определённые и используемые внутри каждой функции переменные считаются локальными и хранятся в отдельной таблице локальных символов.\n",
    "* При обращении к переменной она сначала ищется в локальной области, а потом в глобальной.\n",
    "* Чтобы писать в глобальные переменные из кода внутри функции надо сначала их явно пересчислить в выражении с ключевым словом global.\n"
   ]
  },
  {
   "cell_type": "markdown",
   "metadata": {},
   "source": [
    "Документация:\n",
    "\n",
    "* Документация с помощью docstring - <https://www.python.org/dev/peps/pep-0257/>\n",
    "* Первым выражением может идти строковый литерал - docstring (documentation string).\n",
    "* Можно получить из объекта функции из поля \\_\\_doc\\_\\_.\n",
    "* Редакторы умеют показывать.\n",
    "* Можно даже мини-тесты вставлять.  "
   ]
  },
  {
   "cell_type": "code",
   "execution_count": 9,
   "metadata": {
    "slideshow": {
     "slide_type": "slide"
    }
   },
   "outputs": [
    {
     "name": "stdout",
     "output_type": "stream",
     "text": [
      "hello\n",
      "hello\n",
      "6\n"
     ]
    }
   ],
   "source": [
    "# simple function\n",
    "def print_hello():\n",
    "    print(\"hello\")\n",
    "\n",
    "def return_hello():\n",
    "    return \"hello\"\n",
    "\n",
    "# recursive function\n",
    "def dummy_factorial(value):\n",
    "    if value == 0:\n",
    "        return 1\n",
    "    else:\n",
    "        return value * dummy_factorial(value - 1)\n",
    "\n",
    "print_hello()\n",
    "print(return_hello())\n",
    "print(dummy_factorial(3))"
   ]
  },
  {
   "cell_type": "code",
   "execution_count": 10,
   "metadata": {},
   "outputs": [
    {
     "name": "stdout",
     "output_type": "stream",
     "text": [
      "Greetings, stranger\n",
      "Greetings, user\n",
      "Greetings, user\n"
     ]
    }
   ],
   "source": [
    "# keyword argument\n",
    "def greet(name=None):\n",
    "    if name is None:\n",
    "        name = \"stranger\"\n",
    "\n",
    "    print(\"Greetings, {name}\".format(name=name))\n",
    "\n",
    "greet()\n",
    "greet(\"user\")\n",
    "greet(name=\"user\") "
   ]
  },
  {
   "cell_type": "code",
   "execution_count": 11,
   "metadata": {},
   "outputs": [
    {
     "name": "stdout",
     "output_type": "stream",
     "text": [
      "<class 'tuple'>\n",
      "one two ('three', 'four')\n",
      "<class 'dict'>\n",
      "{'first_named': 'named_one', 'third_named': 'named_three', 'second_named': 'named_two'}\n"
     ]
    }
   ],
   "source": [
    "def show_params(first_param, second_param, *args, **kwargs):\n",
    "    print(type(args))\n",
    "    print(first_param, second_param, args)\n",
    "    print(type(kwargs))\n",
    "    print(kwargs)\n",
    "\n",
    "show_params(\"one\", \"two\", \"three\", \"four\", first_named=\"named_one\", second_named=\"named_two\", third_named=\"named_three\")"
   ]
  },
  {
   "cell_type": "code",
   "execution_count": 12,
   "metadata": {},
   "outputs": [
    {
     "name": "stdout",
     "output_type": "stream",
     "text": [
      "3 1 2\n",
      "range(3, 1, 2)\n"
     ]
    }
   ],
   "source": [
    "# unpacking arguments (no always a good style, but sometimes useful)\n",
    "def show_params(first_param, second_param, third_param):\n",
    "    print(first_param, second_param, third_param)\n",
    "\n",
    "elems = (3, 1, 2)\n",
    "show_params(*elems)\n",
    "print(range(*elems))"
   ]
  },
  {
   "cell_type": "code",
   "execution_count": 13,
   "metadata": {},
   "outputs": [
    {
     "name": "stdout",
     "output_type": "stream",
     "text": [
      "a c b\n"
     ]
    }
   ],
   "source": [
    "d = {'a': 1, 'b': 2, 'c': 3}\n",
    "show_params(*d)"
   ]
  },
  {
   "cell_type": "code",
   "execution_count": 14,
   "metadata": {},
   "outputs": [
    {
     "name": "stdout",
     "output_type": "stream",
     "text": [
      "1 2 3\n"
     ]
    }
   ],
   "source": [
    "# unpacking kwargs\n",
    "def show_named_params(first_param=\"one\", second_param=\"two\", third_param=\"three\"):\n",
    "    print(first_param, second_param, third_param)\n",
    "\n",
    "d = {'first_param': 1, 'second_param': 2, 'third_param': 3}\n",
    "show_named_params(**d)"
   ]
  },
  {
   "cell_type": "code",
   "execution_count": 15,
   "metadata": {},
   "outputs": [
    {
     "name": "stdout",
     "output_type": "stream",
     "text": [
      "<zip object at 0x7f7fd498d9c8> [(1, 4, 7), (2, 5, 8), (3, 6, 9)]\n"
     ]
    }
   ],
   "source": [
    "# zip-star magic\n",
    "elems_containers = ((1, 2, 3), (4, 5, 6), (7, 8, 9))\n",
    "print(zip(*elems_containers), list(zip(*elems_containers)))"
   ]
  },
  {
   "cell_type": "code",
   "execution_count": 16,
   "metadata": {},
   "outputs": [
    {
     "name": "stdout",
     "output_type": "stream",
     "text": [
      "Short description of the function action\n",
      "\n",
      "    More detailes description: may contain params, invariants,\n",
      "    raised exceptions, return value and etc.\n",
      "    \n",
      "Help on function do_something in module __main__:\n",
      "\n",
      "do_something()\n",
      "    Short description of the function action\n",
      "    \n",
      "    More detailes description: may contain params, invariants,\n",
      "    raised exceptions, return value and etc.\n",
      "\n"
     ]
    }
   ],
   "source": [
    "# docstring\n",
    "def do_something():\n",
    "    \"\"\"Short description of the function action\n",
    "\n",
    "    More detailes description: may contain params, invariants,\n",
    "    raised exceptions, return value and etc.\n",
    "    \"\"\"\n",
    "    pass\n",
    "\n",
    "print(do_something.__doc__)\n",
    "help(do_something)"
   ]
  },
  {
   "cell_type": "markdown",
   "metadata": {},
   "source": [
    "## List comprehensions\n",
    "\n",
    "* Списковые включения (выражения) - pythonic способ построения списков с помощью выражений особого вида.  \n",
    "* Осторожнее с читабельностью: иногда вместо сложного выражения лучше просто написать два обычных цикла"
   ]
  },
  {
   "cell_type": "code",
   "execution_count": 17,
   "metadata": {},
   "outputs": [
    {
     "name": "stdout",
     "output_type": "stream",
     "text": [
      "[0, 1, 2, 3, 4, 5, 6, 7, 8, 9]\n",
      "[0, 2, 4, 6, 8]\n",
      "[1, 4, 16, 64, 256]\n"
     ]
    }
   ],
   "source": [
    "print([elem for elem in range(10)])\n",
    "print([elem for elem in range(10) if elem % 2 == 0])\n",
    "print([2 ** elem for elem in range(10) if elem % 2 == 0])"
   ]
  },
  {
   "cell_type": "code",
   "execution_count": 18,
   "metadata": {},
   "outputs": [
    {
     "name": "stdout",
     "output_type": "stream",
     "text": [
      "[(1, 100), (1, 101), (1, 102), (1, 103), (3, 100), (3, 101), (3, 102), (3, 103)]\n"
     ]
    }
   ],
   "source": [
    "# may be too complex\n",
    "print([(elem, inner_elem)\n",
    "        for elem in range(4)\n",
    "            for inner_elem in range(100, 104)\n",
    "                if elem % 2 != 0])"
   ]
  },
  {
   "cell_type": "code",
   "execution_count": 19,
   "metadata": {},
   "outputs": [
    {
     "name": "stdout",
     "output_type": "stream",
     "text": [
      "[(1, 100), (1, 101), (1, 102), (1, 103), (3, 100), (3, 101), (3, 102), (3, 103)]\n"
     ]
    }
   ],
   "source": [
    "# may be more readable version without list comprehension in such case\n",
    "elems = []\n",
    "for elem in range(4):\n",
    "    for inner_elem in range(100, 104):\n",
    "        if elem % 2 != 0:\n",
    "            elems.append((elem, inner_elem))\n",
    "\n",
    "print(elems)"
   ]
  },
  {
   "cell_type": "code",
   "execution_count": 20,
   "metadata": {},
   "outputs": [
    {
     "name": "stdout",
     "output_type": "stream",
     "text": [
      "[[(0, 0), (0, 1), (0, 2)], [(1, 0), (1, 1), (1, 2)], [(2, 0), (2, 1), (2, 2)], [(3, 0), (3, 1), (3, 2)]]\n"
     ]
    }
   ],
   "source": [
    "# nested list comprehensions\n",
    "print([[(row, col) for col in range(3)] for row in range(4)])"
   ]
  },
  {
   "cell_type": "code",
   "execution_count": 21,
   "metadata": {},
   "outputs": [
    {
     "name": "stdout",
     "output_type": "stream",
     "text": [
      "[[0, 0, 0, 0, 0, 0, 0, 0, 0, 0], [0, 0, 0, 0, 0, 0, 0, 0, 0, 0], [0, 0, 0, 0, 0, 0, 0, 0, 0, 0], [0, 0, 0, 0, 0, 0, 0, 0, 0, 0], [0, 0, 0, 0, 0, 0, 0, 0, 0, 0], [0, 0, 0, 0, 0, 0, 0, 0, 0, 0], [0, 0, 0, 0, 0, 0, 0, 0, 0, 0], [0, 0, 0, 0, 0, 0, 0, 0, 0, 0], [0, 0, 0, 0, 0, 0, 0, 0, 0, 0], [0, 0, 0, 0, 0, 0, 0, 0, 0, 0]]\n"
     ]
    }
   ],
   "source": [
    "print([[0] * 10 for i in range(10)])"
   ]
  },
  {
   "cell_type": "code",
   "execution_count": 22,
   "metadata": {},
   "outputs": [
    {
     "name": "stdout",
     "output_type": "stream",
     "text": [
      "{'f': 100500, 'z': 3, 'a': 1, 'c': 2}\n",
      "[('f', 100500), ('z', 3), ('a', 1), ('c', 2)]\n"
     ]
    }
   ],
   "source": [
    "# list comprehensions with dict aka dict comprehensions\n",
    "counters = {\"a\": 1, \"c\": 2, \"f\": 100500, \"z\": 3}\n",
    "print(counters)\n",
    "\n",
    "print([(key, value) for key, value in counters.items()])"
   ]
  },
  {
   "cell_type": "code",
   "execution_count": 23,
   "metadata": {},
   "outputs": [
    {
     "data": {
      "text/plain": [
       "{'0': 1,\n",
       " '1': 2,\n",
       " '2': 4,\n",
       " '3': 8,\n",
       " '4': 16,\n",
       " '5': 32,\n",
       " '6': 64,\n",
       " '7': 128,\n",
       " '8': 256,\n",
       " '9': 512}"
      ]
     },
     "execution_count": 23,
     "metadata": {},
     "output_type": "execute_result"
    }
   ],
   "source": [
    "{str(value) : 2 ** value for value in range(10)}"
   ]
  },
  {
   "cell_type": "code",
   "execution_count": 24,
   "metadata": {},
   "outputs": [
    {
     "data": {
      "text/plain": [
       "{0, 1, 2, 3, 4, 5, 6, 7, 8, 9}"
      ]
     },
     "execution_count": 24,
     "metadata": {},
     "output_type": "execute_result"
    }
   ],
   "source": [
    "{value for value in range(10)}"
   ]
  },
  {
   "cell_type": "markdown",
   "metadata": {},
   "source": [
    "## Элементы функционального программирования"
   ]
  },
  {
   "cell_type": "markdown",
   "metadata": {},
   "source": [
    "### Лябмда-функции\n",
    "\n",
    "* Функции без имени - анонимные функции.  \n",
    "* В Python ограничены одним выражением и предназначены для использования в простых сценариях.  \n",
    "* Общее правило: если нужно что-то сложнее простого понятного выражения в лямбда-функции - сделать обычную именованную функцию.  \n",
    "* Возвращаемое значение - результат единственного выражения в теле.  \n",
    "* Ключевое слово return не нужно.  "
   ]
  },
  {
   "cell_type": "code",
   "execution_count": 25,
   "metadata": {},
   "outputs": [
    {
     "name": "stdout",
     "output_type": "stream",
     "text": [
      "3\n",
      "{'counter': 100500}\n"
     ]
    }
   ],
   "source": [
    "print( (lambda: 3)() )\n",
    "print( (lambda line, number: {line: number})(\"counter\", 100500) )"
   ]
  },
  {
   "cell_type": "markdown",
   "metadata": {},
   "source": [
    "### Замыкания\n",
    "\n",
    "* Вложенные функции могут захватывать контекст внешних функций.\n",
    "* Переменные из внешнего контекста read-only.\n",
    "* Можно обойти в Python 2.x с помощью костыля - созданием контейнера.\n",
    "* Но лучше избегать подобного использования.\n",
    "* При попытке записи - проблема, т.к. не удаётся записать значение."
   ]
  },
  {
   "cell_type": "code",
   "execution_count": 26,
   "metadata": {},
   "outputs": [
    {
     "name": "stdout",
     "output_type": "stream",
     "text": [
      "[100500, 100501, 100502, 100503, 100504, 100505, 100506, 100507, 100508, 100509]\n",
      "[10, 11, 12, 13, 14, 15, 16, 17, 18, 19]\n"
     ]
    }
   ],
   "source": [
    "# closure example\n",
    "def make_adder(initial):\n",
    "    return lambda elem: initial + elem\n",
    "\n",
    "adder100500 = make_adder(100500)\n",
    "adder10 = make_adder(10)\n",
    "print([adder100500(val) for val in range(10)])\n",
    "print([adder10(val) for val in range(10)])"
   ]
  },
  {
   "cell_type": "markdown",
   "metadata": {},
   "source": [
    "### Некоторые функции высшего порядка\n",
    "\n",
    "* map() - преобразовать коллекцию 1 к 1 функцией (количество аргументов - количество переданных коллекций).\n",
    "  - вернёт iterable [3.x]  \n",
    "* reduce() - свёртка коллекции бинарной функцией.\n",
    "  - брать в модуле functools [3.x]\n",
    "* filter() - фильтрация коллекции с помощью унарной функции-предиката.\n",
    "  - вернёт iterable [3.x]\n",
    "* Сейчас в большинстве случаев вместо этих функций принято использовать list comprehensions."
   ]
  },
  {
   "cell_type": "code",
   "execution_count": 27,
   "metadata": {},
   "outputs": [
    {
     "name": "stdout",
     "output_type": "stream",
     "text": [
      "[1, 2, 3, 4, 5, 6, 7, 8, 9]\n",
      "<map object at 0x7f7fd49a56d8>\n",
      "[2, 4, 8, 16, 32, 64, 128, 256, 512]\n"
     ]
    }
   ],
   "source": [
    "# map\n",
    "elems = list(range(1, 10))\n",
    "print(elems)\n",
    "print(map(lambda value: 2 ** value, elems))\n",
    "print(list(map(lambda value: 2 ** value, elems)))"
   ]
  },
  {
   "cell_type": "code",
   "execution_count": 28,
   "metadata": {},
   "outputs": [
    {
     "name": "stdout",
     "output_type": "stream",
     "text": [
      "[2, 4, 8, 16, 32, 64, 128, 256, 512]\n"
     ]
    }
   ],
   "source": [
    "print([2 ** value for value in elems])"
   ]
  },
  {
   "cell_type": "code",
   "execution_count": 29,
   "metadata": {},
   "outputs": [
    {
     "name": "stdout",
     "output_type": "stream",
     "text": [
      "[1, 2, 3, 4, 5, 6, 7, 8, 9]\n",
      "40\n"
     ]
    }
   ],
   "source": [
    "# reduce\n",
    "from functools import reduce\n",
    "\n",
    "elems = list(range(1, 10))\n",
    "print(elems)\n",
    "print(reduce(lambda first, second: first + second, elems, -5))"
   ]
  },
  {
   "cell_type": "code",
   "execution_count": 30,
   "metadata": {},
   "outputs": [
    {
     "name": "stdout",
     "output_type": "stream",
     "text": [
      "40\n"
     ]
    }
   ],
   "source": [
    "elems = list(range(1, 10))\n",
    "\n",
    "accum = -5\n",
    "for elem in elems:\n",
    "    accum = accum + elem\n",
    "print(accum)"
   ]
  },
  {
   "cell_type": "code",
   "execution_count": 31,
   "metadata": {},
   "outputs": [
    {
     "name": "stdout",
     "output_type": "stream",
     "text": [
      "[1, 2, 3, 4, 5, 6, 7, 8, 9]\n",
      "<filter object at 0x7f7fd49ab550>\n",
      "[2, 4, 6, 8]\n"
     ]
    }
   ],
   "source": [
    "# filter\n",
    "elems = list(range(1, 10))\n",
    "print(elems)\n",
    "print(filter(lambda value: value % 2 == 0, elems))\n",
    "print(list(filter(lambda value: value % 2 == 0, elems)))"
   ]
  },
  {
   "cell_type": "code",
   "execution_count": 32,
   "metadata": {},
   "outputs": [
    {
     "data": {
      "text/plain": [
       "[2, 4, 6, 8]"
      ]
     },
     "execution_count": 32,
     "metadata": {},
     "output_type": "execute_result"
    }
   ],
   "source": [
    "[i for i in elems if i % 2 == 0]"
   ]
  },
  {
   "cell_type": "markdown",
   "metadata": {},
   "source": [
    "## Полезные встроенные функции\n",
    "\n",
    "Рассмотрим некоторые встроенные функции."
   ]
  },
  {
   "cell_type": "code",
   "execution_count": 33,
   "metadata": {},
   "outputs": [
    {
     "name": "stdout",
     "output_type": "stream",
     "text": [
      "False\n",
      "False\n",
      "True\n"
     ]
    }
   ],
   "source": [
    "# all\n",
    "print(all([False, True, True]))\n",
    "print(all([False, False, False]))\n",
    "print(all([True, True, True]))"
   ]
  },
  {
   "cell_type": "code",
   "execution_count": 34,
   "metadata": {
    "collapsed": true
   },
   "outputs": [],
   "source": [
    "# all((key in valid_keys) for key in existing_keys)"
   ]
  },
  {
   "cell_type": "code",
   "execution_count": 35,
   "metadata": {},
   "outputs": [
    {
     "name": "stdout",
     "output_type": "stream",
     "text": [
      "True\n",
      "True\n",
      "False\n"
     ]
    }
   ],
   "source": [
    "# any\n",
    "print(any([True, False, False]))\n",
    "print(any([True, True, True]))\n",
    "print(any([False, False, False]))"
   ]
  },
  {
   "cell_type": "code",
   "execution_count": 36,
   "metadata": {},
   "outputs": [
    {
     "name": "stdout",
     "output_type": "stream",
     "text": [
      "True\n",
      "True\n",
      "False\n",
      "False\n"
     ]
    }
   ],
   "source": [
    "# callable (back since 3.2)\n",
    "print(callable(any))\n",
    "print(callable(lambda elem: -elem))\n",
    "print(callable(1))\n",
    "print(callable(\"\"))"
   ]
  },
  {
   "cell_type": "code",
   "execution_count": 37,
   "metadata": {},
   "outputs": [
    {
     "name": "stdout",
     "output_type": "stream",
     "text": [
      "0\n",
      "48\n"
     ]
    }
   ],
   "source": [
    "# chr, ord\n",
    "print(chr(48))\n",
    "print(ord('0'))"
   ]
  },
  {
   "cell_type": "code",
   "execution_count": 38,
   "metadata": {},
   "outputs": [
    {
     "name": "stdout",
     "output_type": "stream",
     "text": [
      "0 a\n",
      "1 b\n",
      "2 c\n"
     ]
    }
   ],
   "source": [
    "# enumerate\n",
    "for ind, letter in enumerate(['a', 'b', 'c']):\n",
    "    print(ind, letter)"
   ]
  },
  {
   "cell_type": "code",
   "execution_count": 39,
   "metadata": {},
   "outputs": [
    {
     "name": "stdout",
     "output_type": "stream",
     "text": [
      "0b10100\n",
      "0x14\n",
      "0o24\n"
     ]
    }
   ],
   "source": [
    "# bin, hex, oct\n",
    "print(bin(20))\n",
    "print(hex(20))\n",
    "print(oct(20))"
   ]
  },
  {
   "cell_type": "code",
   "execution_count": 40,
   "metadata": {},
   "outputs": [
    {
     "data": {
      "text/plain": [
       "20"
      ]
     },
     "execution_count": 40,
     "metadata": {},
     "output_type": "execute_result"
    }
   ],
   "source": [
    "int(hex(20), 16)"
   ]
  },
  {
   "cell_type": "code",
   "execution_count": 41,
   "metadata": {},
   "outputs": [
    {
     "name": "stdout",
     "output_type": "stream",
     "text": [
      "140187004528568\n"
     ]
    }
   ],
   "source": [
    "# id - for CPython this is the address in memory\n",
    "a = lambda elem: -elem\n",
    "print(id(a))"
   ]
  },
  {
   "cell_type": "code",
   "execution_count": 42,
   "metadata": {},
   "outputs": [
    {
     "name": "stdout",
     "output_type": "stream",
     "text": [
      "True\n",
      "False\n"
     ]
    }
   ],
   "source": [
    "# isinstance\n",
    "print(isinstance(\"abc\", str))\n",
    "print(isinstance(\"abc\", int))"
   ]
  },
  {
   "cell_type": "code",
   "execution_count": 43,
   "metadata": {
    "scrolled": true
   },
   "outputs": [],
   "source": [
    "# locals\n",
    "# print(locals())"
   ]
  },
  {
   "cell_type": "code",
   "execution_count": 44,
   "metadata": {},
   "outputs": [],
   "source": [
    "# globals\n",
    "# print(globals())"
   ]
  },
  {
   "cell_type": "markdown",
   "metadata": {
    "slideshow": {
     "slide_type": "slide"
    }
   },
   "source": [
    "## Пример исполняемого скрипта"
   ]
  },
  {
   "cell_type": "code",
   "execution_count": 45,
   "metadata": {
    "slideshow": {
     "slide_type": "subslide"
    }
   },
   "outputs": [
    {
     "name": "stdout",
     "output_type": "stream",
     "text": [
      "Hello, World!\n",
      "This is -f\n"
     ]
    }
   ],
   "source": [
    "#!/usr/bin/env python3.5\n",
    "# -*- coding: utf-8 -*-\n",
    "\n",
    "import sys\n",
    "\n",
    "def main():\n",
    "    print(\"Hello, World!\")\n",
    "    print(\"This is {name}\".format(name=sys.argv[1]))\n",
    "\n",
    "if __name__ == \"__main__\":\n",
    "    main()"
   ]
  },
  {
   "cell_type": "markdown",
   "metadata": {},
   "source": [
    "* Первая строка - принятое в Unix-системах соглашение о том, как указывать командной оболочке интерпретатор, которым обрабатывать скрипт.\n",
    "* Строка с coding задаёт кодировку для редактора и интерпретатора.\n",
    "* Интерпретатор будет предполагать, что строки в литералах и текст в комментариях задан в этой кодировке.\n",
    "* Последний if нужен для того, чтобы при import данного файла код бы не выполнялся - выполнится только при запуске в качестве скрипта."
   ]
  }
 ],
 "metadata": {
  "celltoolbar": "Raw Cell Format",
  "kernelspec": {
   "display_name": "Python 3",
   "language": "python",
   "name": "python3"
  },
  "language_info": {
   "codemirror_mode": {
    "name": "ipython",
    "version": 3
   },
   "file_extension": ".py",
   "mimetype": "text/x-python",
   "name": "python",
   "nbconvert_exporter": "python",
   "pygments_lexer": "ipython3",
   "version": "3.8.1"
  }
 },
 "nbformat": 4,
 "nbformat_minor": 1
}
